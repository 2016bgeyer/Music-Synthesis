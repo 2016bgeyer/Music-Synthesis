{
 "cells": [
  {
   "cell_type": "code",
   "execution_count": 11,
   "metadata": {},
   "outputs": [],
   "source": [
    "import numpy as np\n",
    "import os\n",
    "import pickle\n",
    "# from .model import MidiDataset\n",
    "data_path = '../data/out.pkl'\n",
    "assert os.path.exists(data_path), \"{} does not exist\".format(data_path)\n",
    "if not data_path.endswith('.pkl'):\n",
    "    raise IOError('{} is not a recoginizable file type (.pkl)'.format(data_path))\n",
    "\n",
    "# load data\n",
    "with open(data_path, 'rb') as f:\n",
    "    data_dict = pickle.load(f)"
   ]
  },
  {
   "cell_type": "code",
   "execution_count": 16,
   "metadata": {
    "tags": []
   },
   "outputs": [
    {
     "output_type": "stream",
     "name": "stdout",
     "text": [
      "data_dict.keys(): dict_keys(['file', 'melody', 'chords'])\n",
      "3\n"
     ]
    }
   ],
   "source": [
    "print(f'data_dict.keys(): {data_dict.keys()}')\n",
    "print(len(data_dict))"
   ]
  },
  {
   "cell_type": "code",
   "execution_count": 13,
   "metadata": {
    "tags": []
   },
   "outputs": [
    {
     "output_type": "stream",
     "name": "stdout",
     "text": [
      "data_dict['file'][0]: a-adele-turning-tables-bridge_key.mid\n",
      "data_dict['melody'][0]: ['F', 'F', 'G', 'G', 'G', 'F', 'F', 'F', 'F', 'F', 'F', 'F', 'F', 'F', 'F', 'F', 'F', 'F', 'F', 'F', 'F', 'F', 'G', 'G', 'G', 'F', 'F', 'F', 'F', 'F', 'F', 'F', 'F', 'F', 'F', 'F', 'F', 'F', 'F', 'F', 'F', 'F', 'G', 'G', 'G', 'G', 'F', 'F', 'F', 'F', 'G', 'G', 'G', 'G', 'F', 'F', 'F', 'F', 'G', 'G', 'G', 'F', 'F', 'F', 'F', 'F', 'F', 'F', 'F', 'F', 'F', 'F', 'F', 'F', 'F', 'F', 'F', 'F', 'G', 'G', 'G', 'F', 'F', 'F', 'F', 'F', 'F', 'F', 'F', 'F', 'F', 'F', 'F', 'F', 'F', 'F', 'F', 'F', 'F', 'F', 'F', 'G', 'G', 'G', 'G', 'G', 'G', 'G', 'E-', 'E-', 'E-', 'E-', 'E-', 'E-', 'E-', 'E-', 'E-', 'E-', 'E-', '', '', '', '', '', '', 'E-', 'E-', 'E-', 'E-', 'E-', 'E-', 'E-', 'E-', 'E-', 'E-', 'E-', 'E-', 'E-', 'E-', 'E-', 'E-', 'E-', 'E-', 'E-', 'E-', 'E-', 'E-', 'E-', 'E-', 'E-', 'E-', 'F', 'F', 'F', 'F', 'F', 'F', 'F', 'F', 'F', 'F', 'F', 'F', 'F', 'F', 'F', 'G', 'G', 'F', 'F', 'F', 'E-', 'E-', 'E-', 'E-', 'F', 'F', 'F', 'F', 'F', 'F', 'F', 'F', '', '', '', '', '', '', '', '', '', '', '', '', 'F', 'F', 'F', 'F', 'G', 'G', 'G', 'F', 'F', 'F', 'F', 'F', 'F', 'F', 'F', 'F', 'F', 'F', 'F', 'F', 'F', 'F', 'F', 'F', 'G', 'G', 'G', 'F', 'F', 'F', 'F', 'F', 'F', 'F', 'F', 'F', 'F', 'F', 'F', 'F', 'F', 'F', 'F', 'F', 'F', 'F', 'F', 'F', 'F', 'F', 'F', 'G', 'G', 'G', 'G', 'F', 'F', 'F', 'F', 'G', 'G', 'G', 'F', 'F', 'F', 'F', 'F', 'F', 'F', 'F', 'F', 'F', 'F', 'F', 'F', 'G#', 'G#', 'G#', 'G#', 'G#', 'G#', 'G#', 'G#', 'G#', 'G', 'G', 'G', 'G', 'G', 'G', 'G', 'G', 'G', 'F', 'F', 'F', 'F', 'F', 'F', 'F', 'E-', 'E-', 'E-', 'E-', 'E-', 'E-', 'E-', 'E-', 'E-', 'E-', 'E-', 'E-', 'E-', 'E-', 'E-', 'E-', 'C', 'C', 'C', 'C', '', '', '', '', '', '', '', '', '', '', 'E-', 'E-', 'E-', 'E-', 'E-', 'E-', 'E-', 'E-', 'E-', 'E-', 'E-', 'E-', 'E-', 'E-', 'E-', 'E-', 'E-', 'E-', 'E-', 'E-', 'E-', 'E-', 'F', 'F', 'F', 'F', 'F', 'F', 'F', 'C', 'C', 'D', 'D', 'C', 'C', 'B-', 'B-', 'B-', 'C', 'C', 'C', 'D', 'D', 'D', 'C', 'C', 'C', 'D', 'D', 'D', 'D', 'D', 'D', 'D', 'D', 'D', 'D', 'D', 'D', 'D', 'D', 'D', 'D', 'D']\n",
      "data_dict['chords'][0]: ['C.E-.G', 'C.E-.G', 'C.E-.G', 'C.E-.G', 'C.E-.G', 'C.E-.G', 'C.E-.G', 'C.E-.G', 'C.E-.G', 'C.E-.G', 'C.E-.G', 'C.E-.G', 'C.E-.G', 'C.E-.G', 'C.E-.G', 'C.E-.G', 'C.E-.G', 'C.E-.G', 'C.E-.G', 'C.E-.G', 'C.E-.G', 'C.E-.G', 'C.E-.G', 'C.E-.G', 'C.E-.G', 'C.E-.G', 'C.E-.G', 'C.E-.G', 'C.E-.G', 'C.E-.G', 'C.E-.G', 'C.E-.G', 'C.E-.G', 'C.E-.G', 'C.E-.G', 'C.E-.G', 'C.E-.G', 'B-.D.F.G', 'C.E-.G', 'B-.D.F.G', 'B-.D.F.G', 'B-.D.F.G', 'B-.D.F.G', 'B-.D.F.G', 'B-.D.F.G', 'B-.D.F.G', 'B-.D.F.G', 'B-.D.F.G', 'B-.D.F.G', 'B-.D.F.G', 'B-.D.F.G', 'B-.D.F.G', 'B-.D.F.G', 'C.E-.G#', 'B-.D.F.G', 'C.E-.G#', 'C.E-.G#', 'C.E-.G#', 'C.E-.G#', 'C.E-.G#', 'C.E-.G#', 'C.E-.G#', 'C.E-.G#', 'C.E-.G#', 'C.E-.G#', 'C.E-.G#', 'C.E-.G#', 'C.E-.G#', 'C.E-.G#', 'C.E-.G#', 'C.E-.G#', 'C.E-.G#', 'C.E-.G#', 'C.E-.G#', 'C.E-.G#', 'C.E-.G#', 'C.E-.G#', 'C.E-.G#', 'C.E-.G#', 'C.E-.G#', 'C.E-.G#', 'C.E-.G#', 'C.E-.G#', 'C.E-.G#', 'C.E-.G#', 'C.E-.G#', 'C.E-.G#', 'C.E-.G#', 'C.E-.G#', 'C.E-.G#', 'C.E-.G#', 'C.E-.G#', 'C.E-.G#', 'C.E-.F.G#', 'C.E-.G#', 'C.E-.F.G#', 'C.E-.F.G#', 'C.E-.F.G#', 'C.E-.F.G#', 'C.E-.F.G#', 'C.E-.F.G#', 'C.E-.F.G#', 'C.E-.F.G#', 'C.E-.F.G#', 'C.E-.F.G#', 'C.E-.F.G#', 'C.E-.F.G#', 'B-.E-.G', 'C.E-.F.G#', 'B-.E-.G', 'B-.E-.G', 'B-.E-.G', 'B-.E-.G', 'B-.E-.G', 'B-.E-.G', 'B-.E-.G', 'B-.E-.G', 'B-.E-.G', 'B-.E-.G', 'B-.E-.G', 'B-.E-.G', 'B-.E-.G', 'B-.E-.G', 'B-.E-.G', 'B-.E-.G', 'B-.E-.G', 'B-.E-.G', 'B-.E-.G', 'B-.E-.G', 'B-.E-.G', 'B-.E-.G', 'B-.E-.G', 'B-.E-.G', 'B-.E-.G', 'B-.E-.G', 'B-.E-.G', 'B-.E-.G', 'B-.E-.G', 'B-.E-.G', 'B-.E-.G', 'B-.E-.F', 'B-.E-.F', 'B-.E-.F', 'B-.E-.F', 'B-.E-.F', 'B-.E-.F', 'B-.E-.G', 'B-.E-.F', 'B-.E-.G', 'B-.E-.G', 'B-.E-.G', 'B-.E-.G', 'B-.E-.G', 'B-.E-.G', 'C.F.G#', 'C.F.G#', 'C.F.G#', 'C.F.G#', 'C.F.G#', 'C.F.G#', 'C.F.G#', 'C.F.G#', 'C.F.G#', 'C.F.G#', 'C.F.G#', 'C.F.G#', 'C.F.G#', 'C.F.G#', 'C.F.G#', 'C.F.G#', 'C.F.G#', 'C.F.G#', 'C.F.G#', 'C.F.G#', 'C.F.G#', 'C.F.G#', 'C.F.G#', 'C.F.G#', 'C.F.G#', 'C.F.G#', 'C.F.G#', 'C.F.G#', 'C.F.G#', 'C.F.G#', 'C.F.G#', 'C.F.G#', 'C.F.G#', 'C.F.G#', 'C.F.G#', 'C.F.G#', 'C.F.G#', 'C.F.G#', 'C.F.G#', 'C.F.G#', 'C.F.G#', 'C.F.G#', 'B-.C.E-.G', 'B-.C.E-.G', 'B-.C.E-.G', 'B-.C.E-.G', 'B-.C.E-.G', 'B-.C.E-.G', 'B-.C.E-.G', 'B-.C.E-.G', 'B-.C.E-.G', 'B-.C.E-.G', 'B-.C.E-.G', 'B-.C.E-.G', 'B-.C.E-.G', 'B-.C.E-.G', 'B-.C.E-.G', 'B-.C.E-.G', 'B-.C.E-.G', 'B-.C.E-.G', 'B-.C.E-.G', 'B-.C.E-.G', 'B-.C.E-.G', 'B-.C.E-.G', 'B-.C.E-.G', 'B-.C.E-.G', 'B-.C.E-.G', 'B-.C.E-.G', 'B-.C.E-.G', 'B-.C.E-.G', 'B-.C.E-.G', 'B-.C.E-.G', 'B-.C.E-.G', 'B-.C.E-.G', 'B-.C.E-.G', 'B-.C.E-.G', 'B-.C.E-.G', 'B-.C.E-.G', 'B-.C.E-.G', 'B-.C.E-.G', 'B-.D.F.G', 'B-.C.E-.G', 'B-.D.F.G', 'B-.D.F.G', 'B-.D.F.G', 'B-.D.F.G', 'B-.D.F.G', 'B-.D.F.G', 'B-.D.F.G', 'B-.D.F.G', 'B-.D.F.G', 'B-.D.F.G', 'B-.D.F.G', 'B-.D.F.G', 'B-.D.F.G', 'C.E-.G.G#', 'B-.D.F.G', 'C.E-.G.G#', 'C.E-.G.G#', 'C.E-.G.G#', 'C.E-.G.G#', 'C.E-.G.G#', 'C.E-.G.G#', 'C.E-.G.G#', 'C.E-.G.G#', 'C.E-.G.G#', 'C.E-.G.G#', 'C.E-.G.G#', 'C.E-.G.G#', 'C.E-.G.G#', 'C.E-.G.G#', 'C.E-.G.G#', 'C.E-.G.G#', 'C.E-.G.G#', 'C.E-.G.G#', 'C.E-.G.G#', 'C.E-.G.G#', 'C.E-.G.G#', 'C.E-.G.G#', 'C.E-.G.G#', 'C.E-.G.G#', 'C.E-.G.G#', 'C.E-.G.G#', 'C.E-.G.G#', 'C.E-.G.G#', 'C.E-.G.G#', 'C.E-.G.G#', 'C.E-.G.G#', 'C.E-.G.G#', 'C.E-.G.G#', 'C.E-.G.G#', 'C.E-.G.G#', 'C.E-.G.G#', 'C.E-.F.G#', 'C.E-.G.G#', 'C.E-.F.G#', 'C.E-.F.G#', 'C.E-.F.G#', 'C.E-.F.G#', 'C.E-.F.G#', 'C.E-.F.G#', 'C.E-.F.G#', 'C.E-.F.G#', 'C.E-.F.G#', 'C.E-.F.G#', 'C.E-.F.G#', 'C.E-.F.G#', 'B-.E-.G', 'C.E-.F.G#', 'B-.E-.G', 'B-.E-.G', 'B-.E-.G', 'B-.E-.G', 'B-.E-.G', 'B-.E-.G', 'B-.E-.G', 'B-.E-.G', 'B-.E-.G', 'B-.E-.G', 'B-.E-.G', 'B-.E-.G', 'B-.E-.G', 'B-.E-.G', 'B-.E-.G', 'B-.E-.G', 'B-.E-.G', 'B-.E-.G', 'B-.E-.G', 'B-.E-.G', 'B-.E-.G', 'B-.E-.G', 'B-.E-.G', 'B-.E-.G', 'B-.E-.G', 'B-.E-.G', 'B-.E-.G', 'B-.E-.G', 'B-.E-.G', 'B-.E-.G', 'B-.E-.G', 'B-.E-.G', 'B-.E-.G', 'B-.E-.G', 'B-.E-.G', 'B-.E-.G', 'B-.E-.G', 'B-.E-.G', 'B-.E-.G', 'B-.E-.G', 'B-.E-.G', 'B-.E-.G', 'B-.E-.G', 'B-.D.F', 'B-.E-.G', 'B-.D.F', 'B-.D.F', 'B-.D.F', 'B-.D.F', 'B-.D.F', 'B-.D.F', 'B-.D.F', 'B-.D.F', 'B-.D.F', 'B-.D.F', 'B-.D.F', 'B-.D.F', 'B-.D.F', 'B-.D.F', 'B-.D.F', 'B-.D.F', 'B-.D.F', 'B-.D.F', 'B-.D.F', 'B-.D.F', 'B-.D.F', 'B-.D.F', 'B-.D.F', 'B-.D.F', 'B-.D.F', 'B-.D.F', 'B-.D.F', 'B-.D.F', 'B-.D.F', 'B-.D.F', 'B-.D.F', 'B-.D.F', 'B-.D.F', 'B-.D.F', 'B-.D.F', 'B-.D.F', 'B-.D.F', 'B-.D.F', 'B-.D.F', 'B-.D.F', 'B-.D.F']\n"
     ]
    }
   ],
   "source": [
    "\n",
    "print(f'data_dict[\\'file\\'][0]: {data_dict[\"file\"][0]}')\n",
    "print(f'data_dict[\\'melody\\'][0]: {data_dict[\"melody\"][0]}')\n",
    "print(f'data_dict[\\'chords\\'][0]: {data_dict[\"chords\"][0]}')"
   ]
  },
  {
   "cell_type": "code",
   "execution_count": 4,
   "metadata": {},
   "outputs": [],
   "source": [
    "\n",
    "data_path = '../data/small_nokey_output.pkl'\n",
    "assert os.path.exists(data_path), \"{} does not exist\".format(data_path)\n",
    "if not data_path.endswith('.pkl'):\n",
    "    raise IOError('{} is not a recoginizable file type (.pkl)'.format(data_path))\n",
    "\n",
    "# load data\n",
    "with open(data_path, 'rb') as f:\n",
    "    data_dict = pickle.load(f)"
   ]
  },
  {
   "cell_type": "code",
   "execution_count": 5,
   "metadata": {},
   "outputs": [
    {
     "name": "stdout",
     "output_type": "stream",
     "text": [
      "data_dict.keys(): dict_keys(['file', 'melody', 'chords'])\n",
      "data_dict['file'][:2]: ['a-a-day-to-remember-downfall-of-us-all-intro-and-verse_nokey.mid', 'a-a-day-to-remember-downfall-of-us-all-pre-chorus-and-chorus_nokey.mid']\n",
      "data_dict['melody'][:2][:5]: [['', '', '', '', '', '', '', '', '', '', '', '', '', '', '', '', '', '', '', '', '', '', '', '', '', '', '', '', '', '', '', '', '', '', '', '', '', '', '', '', '', '', '', '', '', '', '', '', '', '', '', '', '', '', '', '', '', '', '', '', '', '', 'F', 'F', 'G', 'G', 'B', 'B', 'B', '', '', '', '', '', '', '', '', '', '', '', '', '', '', '', '', '', '', '', '', '', '', '', '', '', '', '', '', '', '', '', '', '', '', '', '', '', '', '', '', '', '', '', '', '', '', '', '', '', '', '', '', '', '', '', '', '', '', '', '', '', '', '', '', '', '', '', '', '', '', '', 'G', 'G', 'G', 'G', 'G', 'G', 'G', 'G', 'G', 'G', 'G', 'G', 'G', 'G', 'G', 'G', 'G', 'G', 'G', 'E', 'E', 'E', 'D', 'D', 'D', 'C', 'C', 'C', 'D', 'D', 'E', 'E', 'E', 'E', 'C', 'C', 'C', 'C', 'C', 'C', 'C', 'C', 'C', 'C', 'E', 'E', 'E', 'E', 'E', 'E', 'E', 'E', 'E', 'E', 'D', 'D', 'D', 'D', 'D', 'C', 'C', 'C', 'D', 'D', 'D', 'C', 'C', 'C', 'C', 'D', 'D', 'D', 'D', 'D', 'D', 'D', 'E', 'E', 'E', 'D', 'D', 'D', 'D', 'D', 'C', 'C', 'C', 'C', 'C', 'C', 'C', 'C', 'C', 'C', 'C', 'C', 'C', 'C', 'G', 'G', 'G', 'G', 'G', 'G', 'G', 'G', 'G', 'G', 'G', 'G', 'G', 'G', 'G', 'E', 'E', 'E', 'G', 'G', 'G', 'G', 'G', 'G', 'A', 'A', 'A', 'G', 'G', 'G', 'F', 'F', 'F', 'E', 'E', 'E', 'E', 'E', 'D', 'D', 'D', 'D', 'D', 'D', 'D', 'D', '', '', '', '', '', 'C', 'C', 'C', 'D', 'D', 'D', 'C', 'C', 'C', 'C', 'F', 'F', 'F', 'F', '', 'E', 'E', 'E', 'E', 'E', 'D', 'D', 'D', 'C', 'C', 'C', 'C', 'C', 'D', 'D', 'D'], ['C', 'C', 'A', 'A', 'A', 'A', 'A', 'A', 'A', 'G', 'G', 'G', '', 'G', 'G', 'G', 'G', 'E', 'E', 'E', 'E', 'E', 'E', 'E', 'E', 'E', 'E', 'E', 'E', 'G', 'G', 'G', '', 'G', 'G', 'G', 'E', 'E', 'E', 'E', 'E', 'E', 'E', 'E', 'G', 'G', 'G', 'G', 'G', 'G', 'G', 'G', 'G', 'G', 'G', 'G', 'G', 'G', 'G', 'G', 'G', 'G', 'G', 'G', 'G', 'G', 'G', 'G', 'G', 'G', 'G', 'G', 'G', 'G', 'G', 'A', 'A', 'A', 'A', 'A', 'E', 'E', 'E', 'E', 'E', 'E', 'E', 'E', 'E', 'E', 'E', 'E', 'E', 'E', 'E', 'E', 'E', 'E', 'D', 'D', 'D', 'D', 'D', 'C', 'C', 'C', 'C', 'C', 'C', 'C', 'C', 'C', 'C', 'C', 'C', 'C', 'C', 'C', 'C', '', '', '', 'G', 'G', 'G', 'G', 'G', 'G', 'G', 'G', 'G', 'G', 'G', 'G', 'G', 'G', 'G', 'G', 'G', 'G', 'G', 'G', 'G', 'G', 'G', 'G', 'G', 'G', 'G', 'G', 'E', 'E', 'E', 'E', 'D', 'D', 'D', 'D', 'E', 'E', 'E', 'D', 'D', 'D', 'D', 'D', 'D', 'G', 'G', 'G', 'G', 'A', 'A', 'A', 'A', 'G', 'G', 'G', 'E', 'E', 'E', 'E', 'E', 'E', 'D', 'D', 'D', 'D', 'D', '', 'E', 'E', 'E', 'E', 'E', 'E', 'E', 'E', 'E', 'E', 'D', 'D', 'D', 'D', 'D', 'C', 'C', 'C', 'D', 'D', 'D', 'D', 'D', 'C', 'C', 'C', 'C', '', '', '', 'G', 'G', 'G', 'G', 'G', 'G', 'G', 'G', 'G', 'G', 'G', 'G', 'G', 'G', 'G', 'G', 'G', 'G', 'G', 'G', 'G', 'G', 'G', 'G', 'G', 'G', 'G', 'G', 'G', 'G', 'G', 'G', 'E', 'E', 'E', 'E', 'E', 'E', 'E', 'D', 'D', 'D', 'D', 'D', 'D', 'G', 'G', 'G', 'G', 'A', 'A', 'A', 'A', 'G', 'G', 'G', 'E', 'E', 'E', 'E', 'D', 'D', 'D', 'D', 'D', 'D', 'D', 'D', '', 'E', 'E', 'E', 'E', 'E', 'E', 'E', 'E', 'E', 'E', 'D', 'D', 'D', 'D', 'D', 'C', 'C', 'C', 'C', 'C', 'C', 'C', 'C', 'D', 'D', 'D', 'D', 'D', 'D', 'D', 'D', 'D', 'D', 'D', 'D', 'D', 'D', 'D', 'D', 'D', 'D', 'D', 'D', 'D', 'D', 'C', 'C', 'C', 'C', 'E', 'E', 'E', 'E', 'E', 'E', 'D', 'D', 'D', 'D', 'D', 'C', 'C', 'C', 'D', 'D', 'D', 'D', 'D', 'C', 'C', 'C']]\n",
      "data_dict['chords'][:2][:5]: [['C-major triad', 'C-major triad', 'C-major triad', 'C-major triad', 'C-major triad', 'C-major triad', 'C-major triad', 'C-major triad', 'C-major triad', 'C-major triad', 'C-major triad', '', 'C-major triad', 'C-major triad', 'C-major triad', '', '', '', 'C-major triad', 'C-major triad', 'C-major triad', 'C-major triad', 'C-major triad', 'C-major triad', 'C-major triad', 'C-major triad', 'C-major triad', 'C-major triad', '', 'C-major triad', 'C-major triad', 'C-major triad', '', 'A-minor triad', 'A-minor triad', 'A-minor triad', 'A-minor triad', 'A-minor triad', 'A-minor triad', 'A-minor triad', 'A-minor triad', 'A-minor triad', 'A-minor triad', 'A-minor triad', 'A-minor triad', '', 'A-minor triad', 'A-minor triad', 'A-minor triad', '', 'F-major triad', 'F-major triad', 'F-major triad', '', 'F-major triad', 'F-major triad', 'F-major triad', '', 'F-major triad', 'F-major triad', 'F-major triad', '', '', '', '', '', '', '', 'C-major triad', 'C-major triad', 'C-major triad', 'C-major triad', 'C-major triad', 'C-major triad', 'C-major triad', 'C-major triad', 'C-major triad', 'C-major triad', 'C-major triad', 'C-major triad', '', 'C-major triad', 'C-major triad', 'C-major triad', '', '', '', 'C-major triad', 'C-major triad', 'C-major triad', 'C-major triad', 'C-major triad', 'C-major triad', 'C-major triad', 'C-major triad', 'C-major triad', 'C-major triad', '', 'C-major triad', 'C-major triad', 'C-major triad', '', 'A-minor triad', 'A-minor triad', 'A-minor triad', 'A-minor triad', 'A-minor triad', 'A-minor triad', 'A-minor triad', 'A-minor triad', 'A-minor triad', 'A-minor triad', 'A-minor triad', 'A-minor triad', '', 'A-minor triad', 'A-minor triad', 'A-minor triad', '', 'F-major triad', 'F-major triad', 'F-major triad', '', 'F-major triad', 'F-major triad', 'F-major triad', '', 'F-major triad', 'F-major triad', 'F-major triad', '', 'F-major triad', 'F-major triad', 'F-major triad', 'F-major triad', 'F-major triad', 'C-major triad', 'C-major triad', 'C-major triad', 'C-major triad', 'C-major triad', 'C-major triad', 'C-major triad', 'C-major triad', 'C-major triad', 'C-major triad', 'C-major triad', 'C-major triad', 'C-major triad', 'C-major triad', 'C-major triad', 'C-major triad', 'C-major triad', 'C-major triad', 'C-major triad', 'C-major triad', 'C-major triad', 'C-major triad', 'C-major triad', 'C-major triad', 'C-major triad', 'C-major triad', 'C-major triad', 'C-major triad', 'C-major triad', 'C-major triad', 'C-major triad', 'C-major triad', 'C-major triad', 'C-major triad', 'C-major triad', 'C-major triad', 'C-major triad', 'C-major triad', 'C-major triad', 'C-major triad', 'C-major triad', 'C-major triad', 'C-major triad', 'C-major triad', 'C-major triad', 'C-major triad', 'C-major triad', 'A-minor triad', 'C-major triad', 'A-minor triad', 'A-minor triad', 'A-minor triad', 'A-minor triad', 'A-minor triad', 'A-minor triad', 'A-minor triad', 'A-minor triad', 'A-minor triad', 'A-minor triad', 'A-minor triad', 'A-minor triad', 'A-minor triad', 'A-minor triad', 'A-minor triad', 'A-minor triad', 'A-minor triad', 'A-minor triad', 'A-minor triad', 'A-minor triad', 'A-minor triad', 'A-minor triad', 'A-minor triad', 'F-major triad', 'A-minor triad', 'F-major triad', 'F-major triad', 'F-major triad', 'F-major triad', 'F-major triad', 'F-major triad', 'F-major triad', 'F-major triad', 'F-major triad', 'F-major triad', 'F-major triad', 'F-major triad', 'F-major triad', 'F-major triad', 'F-major triad', 'F-major triad', 'F-major triad', 'F-major triad', 'F-major triad', 'F-major triad', 'F-major triad', 'F-major triad', 'C-major triad', 'C-major triad', 'C-major triad', 'C-major triad', 'C-major triad', 'C-major triad', 'C-major triad', 'C-major triad', 'C-major triad', 'C-major triad', 'C-major triad', 'C-major triad', 'C-major triad', 'C-major triad', 'C-major triad', 'C-major triad', 'C-major triad', 'C-major triad', 'C-major triad', 'C-major triad', 'C-major triad', 'C-major triad', 'C-major triad', 'C-major triad', 'C-major triad', 'C-major triad', 'C-major triad', 'C-major triad', 'C-major triad', 'C-major triad', 'C-major triad', 'C-major triad', 'C-major triad', 'C-major triad', 'C-major triad', 'C-major triad', 'C-major triad', 'C-major triad', 'C-major triad', 'C-major triad', 'C-major triad', 'C-major triad', 'C-major triad', 'C-major triad', 'C-major triad', 'C-major triad', 'C-major triad', 'A-minor triad', 'A-minor triad', 'A-minor triad', 'A-minor triad', 'A-minor triad', 'A-minor triad', 'A-minor triad', 'A-minor triad', 'A-minor triad', 'A-minor triad', 'A-minor triad', 'A-minor triad', 'A-minor triad', 'A-minor triad', 'A-minor triad', 'A-minor triad', 'A-minor triad', 'A-minor triad', 'A-minor triad', 'F-major triad', 'A-minor triad', 'F-major triad', 'F-major triad', 'F-major triad', 'F-major triad', 'F-major triad', 'F-major triad', 'F-major triad', 'F-major triad', 'F-major triad', 'F-major triad', 'F-major triad', 'F-major triad', 'F-major triad', 'F-major triad', 'F-major triad', 'F-major triad', 'F-major triad', 'F-major triad', 'F-major triad', 'F-major triad'], ['A-minor triad', 'A-minor triad', 'A-minor triad', 'A-minor triad', 'A-minor triad', 'A-minor triad', 'A-minor triad', 'A-minor triad', 'A-minor triad', 'A-minor triad', 'A-minor triad', 'A-minor triad', 'A-minor triad', 'A-minor triad', 'A-minor triad', 'A-minor triad', 'E-major triad', 'A-minor triad', 'E-major triad', 'E-major triad', 'E-major triad', '', 'E-major triad', 'E-major triad', 'E-major triad', 'E-major triad', 'E-major triad', 'E-major triad', 'E-major triad', 'E-major triad', 'E-major triad', 'E-major triad', 'E-major triad', 'E-major triad', 'E-major triad', 'E-major triad', 'E-major triad', 'E-major triad', 'E-major triad', 'F-major triad', 'F-major triad', 'F-major triad', 'F-major triad', 'F-major triad', 'F-major triad', 'F-major triad', 'F-major triad', 'F-major triad', 'F-major triad', 'F-major triad', 'F-major triad', 'F-major triad', 'F-major triad', 'F-major triad', 'F-major triad', 'F-major triad', 'F-major triad', 'F-major triad', 'F-major triad', 'C-major triad', 'F-major triad', 'C-major triad', 'C-major triad', 'C-major triad', 'C-major triad', 'C-major triad', 'C-major triad', 'C-major triad', 'C-major triad', 'C-major triad', 'C-major triad', 'C-major triad', 'C-major triad', 'C-major triad', 'C-major triad', 'C-major triad', 'C-major triad', 'C-major triad', 'C-major triad', 'C-major triad', 'C-major triad', 'C-major triad', 'C-major triad', 'A-minor triad', 'A-minor triad', 'A-minor triad', 'A-minor triad', 'A-minor triad', 'A-minor triad', 'A-minor triad', 'A-minor triad', 'A-minor triad', 'A-minor triad', 'A-minor triad', 'A-minor triad', 'A-minor triad', 'A-minor triad', 'A-minor triad', 'A-minor triad', 'A-minor triad', 'A-minor triad', '', 'F-major triad', 'F-major triad', 'F-major triad', 'F-major triad', 'F-major triad', 'F-major triad', 'F-major triad', 'F-major triad', 'F-major triad', 'F-major triad', 'F-major triad', 'F-major triad', 'F-major triad', 'F-major triad', 'F-major triad', 'F-major triad', 'C-major triad', 'C-major triad', 'C-major triad', 'C-major triad', 'C-major triad', 'C-major triad', 'C-major triad', 'D-minor triad', 'D-minor triad', 'D-minor triad', 'D-minor triad', 'D-minor triad', 'D-minor triad', 'C-major triad', 'D-minor triad', 'C-major triad', 'C-major triad', 'C-major triad', 'C-major triad', 'C-major triad', 'C-major triad', 'F-major triad', 'C-major triad', 'F-major triad', 'F-major triad', 'F-major triad', 'F-major triad', 'F-major triad', 'F-major triad', 'C-major triad', 'C-major triad', 'C-major triad', 'C-major triad', 'C-major triad', 'C-major triad', 'G-major triad', 'C-major triad', 'G-major triad', 'G-major triad', 'G-major triad', 'G-major triad', 'G-major triad', 'G-major triad', 'G-major triad', 'G-major triad', 'G-major triad', 'G-major triad', 'G-major triad', 'G-major triad', 'G-major triad', 'G-major triad', 'G-major triad', 'C-major triad', 'G-major triad', 'C-major triad', 'C-major triad', 'C-major triad', 'C-major triad', 'C-major triad', 'C-major triad', 'C-major triad', 'C-major triad', 'C-major triad', 'D-minor triad', 'D-minor triad', 'D-minor triad', 'D-minor triad', 'D-minor triad', 'D-minor triad', 'D-minor triad', 'D-minor triad', 'D-minor triad', 'D-minor triad', 'D-minor triad', 'D-minor triad', 'F-major triad', 'D-minor triad', 'F-major triad', 'F-major triad', 'F-major triad', 'F-major triad', 'F-major triad', 'F-major triad', 'F-major triad', 'F-major triad', 'F-major triad', 'F-major triad', 'F-major triad', 'F-major triad', 'F-major triad', 'F-major triad', 'F-major triad', 'F-major triad', 'F-major triad', 'F-major triad', 'F-major triad', 'F-major triad', 'F-major triad', 'C-major triad', 'C-major triad', 'C-major triad', 'C-major triad', 'C-major triad', 'C-major triad', 'C-major triad', 'D-minor triad', 'C-major triad', 'D-minor triad', 'D-minor triad', 'D-minor triad', 'D-minor triad', 'D-minor triad', 'D-minor triad', 'C-major triad', 'C-major triad', 'C-major triad', 'C-major triad', 'C-major triad', 'C-major triad', 'F-major triad', 'C-major triad', 'F-major triad', 'F-major triad', 'F-major triad', 'F-major triad', 'F-major triad', 'F-major triad', 'C-major triad', 'C-major triad', 'C-major triad', 'C-major triad', 'C-major triad', 'C-major triad', 'G-major triad', 'C-major triad', 'G-major triad', 'G-major triad', 'G-major triad', 'G-major triad', 'G-major triad', 'G-major triad', 'G-major triad', 'G-major triad', 'G-major triad', 'G-major triad', 'G-major triad', 'G-major triad', 'G-major triad', 'G-major triad', 'G-major triad', 'C-major triad', 'G-major triad', 'C-major triad', 'C-major triad', 'C-major triad', 'C-major triad', 'C-major triad', 'C-major triad', 'C-major triad', 'C-major triad', 'C-major triad', 'D-minor triad', 'C-major triad', 'D-minor triad', 'D-minor triad', 'D-minor triad', 'D-minor triad', 'D-minor triad', 'D-minor triad', 'D-minor triad', 'D-minor triad', 'D-minor triad', 'D-minor triad', 'D-minor triad', 'F-major triad', 'D-minor triad', 'F-major triad', 'F-major triad', 'F-major triad', 'F-major triad', 'F-major triad', 'F-major triad', 'F-major triad', 'F-major triad', 'F-major triad', 'F-major triad', 'F-major triad', 'F-major triad', 'F-major triad', 'F-major triad', 'F-major triad', 'F-major triad', 'F-major triad', 'F-major triad', 'F-major triad', 'F-major triad', 'F-major triad', 'D-minor triad', 'D-minor triad', 'D-minor triad', 'D-minor triad', 'D-minor triad', 'D-minor triad', 'D-minor triad', 'D-minor triad', 'D-minor triad', 'D-minor triad', 'D-minor triad', 'D-minor triad', 'D-minor triad', 'D-minor triad', 'D-minor triad', 'D-minor triad', 'D-minor triad', 'D-minor triad', 'D-minor triad', 'D-minor triad', 'D-minor triad', 'D-minor triad', 'F-major triad', 'D-minor triad', 'F-major triad', 'F-major triad', 'F-major triad', 'F-major triad', 'F-major triad', 'F-major triad', '', '', '', '', '', '', '', '', '', '', '', '', '', '', '']]\n"
     ]
    }
   ],
   "source": [
    "print(f'data_dict.keys(): {data_dict.keys()}')\n",
    "\n",
    "print(f'data_dict[\\'file\\'][:2]: {data_dict[\"file\"][:2]}')\n",
    "print(f'data_dict[\\'melody\\'][:2][:5]: {data_dict[\"melody\"][:2][:5]}')\n",
    "print(f'data_dict[\\'chords\\'][:2][:5]: {data_dict[\"chords\"][:2][:5]}')"
   ]
  },
  {
   "cell_type": "code",
   "execution_count": null,
   "metadata": {},
   "outputs": [],
   "source": []
  }
 ],
 "metadata": {
  "kernelspec": {
   "display_name": "venv",
   "language": "python",
   "name": "venv"
  },
  "language_info": {
   "codemirror_mode": {
    "name": "ipython",
    "version": 3
   },
   "file_extension": ".py",
   "mimetype": "text/x-python",
   "name": "python",
   "nbconvert_exporter": "python",
   "pygments_lexer": "ipython3",
   "version": "3.8.8"
  }
 },
 "nbformat": 4,
 "nbformat_minor": 2
}