{
 "metadata": {
  "language_info": {
   "codemirror_mode": {
    "name": "ipython",
    "version": 3
   },
   "file_extension": ".py",
   "mimetype": "text/x-python",
   "name": "python",
   "nbconvert_exporter": "python",
   "pygments_lexer": "ipython3",
   "version": "3.8.3"
  },
  "orig_nbformat": 2,
  "kernelspec": {
   "name": "python383jvsc74a57bd051e2244a9dc854099e215035e8dc09caf79ba9e7685be3d03b107bb0722c5756",
   "display_name": "Python 3.8.3 64-bit ('venv')"
  }
 },
 "nbformat": 4,
 "nbformat_minor": 2,
 "cells": [
  {
   "cell_type": "code",
   "execution_count": 46,
   "metadata": {},
   "outputs": [],
   "source": [
    "import numpy as np\n",
    "import os\n",
    "import pickle\n",
    "\n",
    "data_path = '../data/small_key_output.pkl'\n",
    "assert os.path.exists(data_path), \"{} does not exist\".format(data_path)\n",
    "if not data_path.endswith('.pkl'):\n",
    "    raise IOError('{} is not a recoginizable file type (.pkl)'.format(data_path))\n",
    "\n",
    "# load data\n",
    "with open(data_path, 'rb') as f:\n",
    "    data_dict = pickle.load(f)"
   ]
  },
  {
   "cell_type": "code",
   "execution_count": 47,
   "metadata": {
    "tags": []
   },
   "outputs": [
    {
     "output_type": "stream",
     "name": "stdout",
     "text": [
      "data_dict.keys(): dict_keys(['file', 'melody', 'chords'])\n"
     ]
    }
   ],
   "source": [
    "print(f'data_dict.keys(): {data_dict.keys()}')"
   ]
  },
  {
   "cell_type": "code",
   "execution_count": 48,
   "metadata": {
    "tags": []
   },
   "outputs": [
    {
     "output_type": "stream",
     "name": "stdout",
     "text": [
      "data_dict['file'][0]: a-a-day-to-remember-downfall-of-us-all-intro-and-verse_key.mid\ndata_dict['melody'][0]: ['', '', '', '', '', '', '', '', '', '', '', '', '', '', '', '', '', '', '', '', '', '', '', '', '', '', '', '', '', '', '', '', '', '', '', '', '', '', '', '', '', '', '', '', '', '', '', '', '', '', '', '', '', '', '', '', '', '', '', '', '', '', 'F', 'F', 'G', 'G', 'B', 'B', 'B', '', '', '', '', '', '', '', '', '', '', '', '', '', '', '', '', '', '', '', '', '', '', '', '', '', '', '', '', '', '', '', '', '', '', '', '', '', '', '', '', '', '', '', '', '', '', '', '', '', '', '', '', '', '', '', '', '', '', '', '', '', '', '', '', '', '', '', '', '', '', '', 'G', 'G', 'G', 'G', 'G', 'G', 'G', 'G', 'G', 'G', 'G', 'G', 'G', 'G', 'G', 'G', 'G', 'G', 'G', 'E', 'E', 'E', 'D', 'D', 'D', 'C', 'C', 'C', 'D', 'D', 'E', 'E', 'E', 'E', 'C', 'C', 'C', 'C', 'C', 'C', 'C', 'C', 'C', 'C', 'E', 'E', 'E', 'E', 'E', 'E', 'E', 'E', 'E', 'E', 'D', 'D', 'D', 'D', 'D', 'C', 'C', 'C', 'D', 'D', 'D', 'C', 'C', 'C', 'C', 'D', 'D', 'D', 'D', 'D', 'D', 'D', 'E', 'E', 'E', 'D', 'D', 'D', 'D', 'D', 'C', 'C', 'C', 'C', 'C', 'C', 'C', 'C', 'C', 'C', 'C', 'C', 'C', 'C', 'G', 'G', 'G', 'G', 'G', 'G', 'G', 'G', 'G', 'G', 'G', 'G', 'G', 'G', 'G', 'E', 'E', 'E', 'G', 'G', 'G', 'G', 'G', 'G', 'A', 'A', 'A', 'G', 'G', 'G', 'F', 'F', 'F', 'E', 'E', 'E', 'E', 'E', 'D', 'D', 'D', 'D', 'D', 'D', 'D', 'D', '', '', '', '', '', 'C', 'C', 'C', 'D', 'D', 'D', 'C', 'C', 'C', 'C', 'F', 'F', 'F', 'F', '', 'E', 'E', 'E', 'E', 'E', 'D', 'D', 'D', 'C', 'C', 'C', 'C', 'C', 'D', 'D', 'D']\ndata_dict['chords'][0]: ['C-major triad', 'C-major triad', 'C-major triad', 'C-major triad', 'C-major triad', 'C-major triad', 'C-major triad', 'C-major triad', 'C-major triad', 'C-major triad', 'C-major triad', '', 'C-major triad', 'C-major triad', 'C-major triad', '', '', '', 'C-major triad', 'C-major triad', 'C-major triad', 'C-major triad', 'C-major triad', 'C-major triad', 'C-major triad', 'C-major triad', 'C-major triad', 'C-major triad', '', 'C-major triad', 'C-major triad', 'C-major triad', '', 'A-minor triad', 'A-minor triad', 'A-minor triad', 'A-minor triad', 'A-minor triad', 'A-minor triad', 'A-minor triad', 'A-minor triad', 'A-minor triad', 'A-minor triad', 'A-minor triad', 'A-minor triad', '', 'A-minor triad', 'A-minor triad', 'A-minor triad', '', 'F-major triad', 'F-major triad', 'F-major triad', '', 'F-major triad', 'F-major triad', 'F-major triad', '', 'F-major triad', 'F-major triad', 'F-major triad', '', '', '', '', '', '', '', 'C-major triad', 'C-major triad', 'C-major triad', 'C-major triad', 'C-major triad', 'C-major triad', 'C-major triad', 'C-major triad', 'C-major triad', 'C-major triad', 'C-major triad', 'C-major triad', '', 'C-major triad', 'C-major triad', 'C-major triad', '', '', '', 'C-major triad', 'C-major triad', 'C-major triad', 'C-major triad', 'C-major triad', 'C-major triad', 'C-major triad', 'C-major triad', 'C-major triad', 'C-major triad', '', 'C-major triad', 'C-major triad', 'C-major triad', '', 'A-minor triad', 'A-minor triad', 'A-minor triad', 'A-minor triad', 'A-minor triad', 'A-minor triad', 'A-minor triad', 'A-minor triad', 'A-minor triad', 'A-minor triad', 'A-minor triad', 'A-minor triad', '', 'A-minor triad', 'A-minor triad', 'A-minor triad', '', 'F-major triad', 'F-major triad', 'F-major triad', '', 'F-major triad', 'F-major triad', 'F-major triad', '', 'F-major triad', 'F-major triad', 'F-major triad', '', 'F-major triad', 'F-major triad', 'F-major triad', 'F-major triad', 'F-major triad', 'C-major triad', 'C-major triad', 'C-major triad', 'C-major triad', 'C-major triad', 'C-major triad', 'C-major triad', 'C-major triad', 'C-major triad', 'C-major triad', 'C-major triad', 'C-major triad', 'C-major triad', 'C-major triad', 'C-major triad', 'C-major triad', 'C-major triad', 'C-major triad', 'C-major triad', 'C-major triad', 'C-major triad', 'C-major triad', 'C-major triad', 'C-major triad', 'C-major triad', 'C-major triad', 'C-major triad', 'C-major triad', 'C-major triad', 'C-major triad', 'C-major triad', 'C-major triad', 'C-major triad', 'C-major triad', 'C-major triad', 'C-major triad', 'C-major triad', 'C-major triad', 'C-major triad', 'C-major triad', 'C-major triad', 'C-major triad', 'C-major triad', 'C-major triad', 'C-major triad', 'C-major triad', 'C-major triad', 'A-minor triad', 'C-major triad', 'A-minor triad', 'A-minor triad', 'A-minor triad', 'A-minor triad', 'A-minor triad', 'A-minor triad', 'A-minor triad', 'A-minor triad', 'A-minor triad', 'A-minor triad', 'A-minor triad', 'A-minor triad', 'A-minor triad', 'A-minor triad', 'A-minor triad', 'A-minor triad', 'A-minor triad', 'A-minor triad', 'A-minor triad', 'A-minor triad', 'A-minor triad', 'A-minor triad', 'A-minor triad', 'F-major triad', 'A-minor triad', 'F-major triad', 'F-major triad', 'F-major triad', 'F-major triad', 'F-major triad', 'F-major triad', 'F-major triad', 'F-major triad', 'F-major triad', 'F-major triad', 'F-major triad', 'F-major triad', 'F-major triad', 'F-major triad', 'F-major triad', 'F-major triad', 'F-major triad', 'F-major triad', 'F-major triad', 'F-major triad', 'F-major triad', 'F-major triad', 'C-major triad', 'C-major triad', 'C-major triad', 'C-major triad', 'C-major triad', 'C-major triad', 'C-major triad', 'C-major triad', 'C-major triad', 'C-major triad', 'C-major triad', 'C-major triad', 'C-major triad', 'C-major triad', 'C-major triad', 'C-major triad', 'C-major triad', 'C-major triad', 'C-major triad', 'C-major triad', 'C-major triad', 'C-major triad', 'C-major triad', 'C-major triad', 'C-major triad', 'C-major triad', 'C-major triad', 'C-major triad', 'C-major triad', 'C-major triad', 'C-major triad', 'C-major triad', 'C-major triad', 'C-major triad', 'C-major triad', 'C-major triad', 'C-major triad', 'C-major triad', 'C-major triad', 'C-major triad', 'C-major triad', 'C-major triad', 'C-major triad', 'C-major triad', 'C-major triad', 'C-major triad', 'C-major triad', 'A-minor triad', 'A-minor triad', 'A-minor triad', 'A-minor triad', 'A-minor triad', 'A-minor triad', 'A-minor triad', 'A-minor triad', 'A-minor triad', 'A-minor triad', 'A-minor triad', 'A-minor triad', 'A-minor triad', 'A-minor triad', 'A-minor triad', 'A-minor triad', 'A-minor triad', 'A-minor triad', 'A-minor triad', 'F-major triad', 'A-minor triad', 'F-major triad', 'F-major triad', 'F-major triad', 'F-major triad', 'F-major triad', 'F-major triad', 'F-major triad', 'F-major triad', 'F-major triad', 'F-major triad', 'F-major triad', 'F-major triad', 'F-major triad', 'F-major triad', 'F-major triad', 'F-major triad', 'F-major triad', 'F-major triad', 'F-major triad', 'F-major triad']\n"
     ]
    }
   ],
   "source": [
    "\n",
    "print(f'data_dict[\\'file\\'][0]: {data_dict[\"file\"][0]}')\n",
    "print(f'data_dict[\\'melody\\'][0]: {data_dict[\"melody\"][0]}')\n",
    "print(f'data_dict[\\'chords\\'][0]: {data_dict[\"chords\"][0]}')"
   ]
  },
  {
   "cell_type": "code",
   "execution_count": 44,
   "metadata": {},
   "outputs": [],
   "source": [
    "\n",
    "data_path = '../data/small_nokey_output.pkl'\n",
    "assert os.path.exists(data_path), \"{} does not exist\".format(data_path)\n",
    "if not data_path.endswith('.pkl'):\n",
    "    raise IOError('{} is not a recoginizable file type (.pkl)'.format(data_path))\n",
    "\n",
    "# load data\n",
    "with open(data_path, 'rb') as f:\n",
    "    data_dict = pickle.load(f)"
   ]
  },
  {
   "cell_type": "code",
   "execution_count": 45,
   "metadata": {},
   "outputs": [
    {
     "output_type": "stream",
     "name": "stdout",
     "text": [
      "data_dict.keys(): dict_keys(['file', 'melody', 'chords'])\ndata_dict['file'][:2]: ['a-a-day-to-remember-downfall-of-us-all-intro-and-verse_nokey.mid', 'a-a-day-to-remember-downfall-of-us-all-pre-chorus-and-chorus_nokey.mid']\ndata_dict['melody'][:2][:5]: [['', '', '', '', '', '', '', '', '', '', '', '', '', '', '', '', '', '', '', '', '', '', '', '', '', '', '', '', '', '', '', '', '', '', '', '', '', '', '', '', '', '', '', '', '', '', '', '', '', '', '', '', '', '', '', '', '', '', '', '', '', '', 'F', 'F', 'G', 'G', 'B', 'B', 'B', '', '', '', '', '', '', '', '', '', '', '', '', '', '', '', '', '', '', '', '', '', '', '', '', '', '', '', '', '', '', '', '', '', '', '', '', '', '', '', '', '', '', '', '', '', '', '', '', '', '', '', '', '', '', '', '', '', '', '', '', '', '', '', '', '', '', '', '', '', '', '', 'G', 'G', 'G', 'G', 'G', 'G', 'G', 'G', 'G', 'G', 'G', 'G', 'G', 'G', 'G', 'G', 'G', 'G', 'G', 'E', 'E', 'E', 'D', 'D', 'D', 'C', 'C', 'C', 'D', 'D', 'E', 'E', 'E', 'E', 'C', 'C', 'C', 'C', 'C', 'C', 'C', 'C', 'C', 'C', 'E', 'E', 'E', 'E', 'E', 'E', 'E', 'E', 'E', 'E', 'D', 'D', 'D', 'D', 'D', 'C', 'C', 'C', 'D', 'D', 'D', 'C', 'C', 'C', 'C', 'D', 'D', 'D', 'D', 'D', 'D', 'D', 'E', 'E', 'E', 'D', 'D', 'D', 'D', 'D', 'C', 'C', 'C', 'C', 'C', 'C', 'C', 'C', 'C', 'C', 'C', 'C', 'C', 'C', 'G', 'G', 'G', 'G', 'G', 'G', 'G', 'G', 'G', 'G', 'G', 'G', 'G', 'G', 'G', 'E', 'E', 'E', 'G', 'G', 'G', 'G', 'G', 'G', 'A', 'A', 'A', 'G', 'G', 'G', 'F', 'F', 'F', 'E', 'E', 'E', 'E', 'E', 'D', 'D', 'D', 'D', 'D', 'D', 'D', 'D', '', '', '', '', '', 'C', 'C', 'C', 'D', 'D', 'D', 'C', 'C', 'C', 'C', 'F', 'F', 'F', 'F', '', 'E', 'E', 'E', 'E', 'E', 'D', 'D', 'D', 'C', 'C', 'C', 'C', 'C', 'D', 'D', 'D'], ['C', 'C', 'A', 'A', 'A', 'A', 'A', 'A', 'A', 'G', 'G', 'G', '', 'G', 'G', 'G', 'G', 'E', 'E', 'E', 'E', 'E', 'E', 'E', 'E', 'E', 'E', 'E', 'E', 'G', 'G', 'G', '', 'G', 'G', 'G', 'E', 'E', 'E', 'E', 'E', 'E', 'E', 'E', 'G', 'G', 'G', 'G', 'G', 'G', 'G', 'G', 'G', 'G', 'G', 'G', 'G', 'G', 'G', 'G', 'G', 'G', 'G', 'G', 'G', 'G', 'G', 'G', 'G', 'G', 'G', 'G', 'G', 'G', 'G', 'A', 'A', 'A', 'A', 'A', 'E', 'E', 'E', 'E', 'E', 'E', 'E', 'E', 'E', 'E', 'E', 'E', 'E', 'E', 'E', 'E', 'E', 'E', 'D', 'D', 'D', 'D', 'D', 'C', 'C', 'C', 'C', 'C', 'C', 'C', 'C', 'C', 'C', 'C', 'C', 'C', 'C', 'C', 'C', '', '', '', 'G', 'G', 'G', 'G', 'G', 'G', 'G', 'G', 'G', 'G', 'G', 'G', 'G', 'G', 'G', 'G', 'G', 'G', 'G', 'G', 'G', 'G', 'G', 'G', 'G', 'G', 'G', 'G', 'E', 'E', 'E', 'E', 'D', 'D', 'D', 'D', 'E', 'E', 'E', 'D', 'D', 'D', 'D', 'D', 'D', 'G', 'G', 'G', 'G', 'A', 'A', 'A', 'A', 'G', 'G', 'G', 'E', 'E', 'E', 'E', 'E', 'E', 'D', 'D', 'D', 'D', 'D', '', 'E', 'E', 'E', 'E', 'E', 'E', 'E', 'E', 'E', 'E', 'D', 'D', 'D', 'D', 'D', 'C', 'C', 'C', 'D', 'D', 'D', 'D', 'D', 'C', 'C', 'C', 'C', '', '', '', 'G', 'G', 'G', 'G', 'G', 'G', 'G', 'G', 'G', 'G', 'G', 'G', 'G', 'G', 'G', 'G', 'G', 'G', 'G', 'G', 'G', 'G', 'G', 'G', 'G', 'G', 'G', 'G', 'G', 'G', 'G', 'G', 'E', 'E', 'E', 'E', 'E', 'E', 'E', 'D', 'D', 'D', 'D', 'D', 'D', 'G', 'G', 'G', 'G', 'A', 'A', 'A', 'A', 'G', 'G', 'G', 'E', 'E', 'E', 'E', 'D', 'D', 'D', 'D', 'D', 'D', 'D', 'D', '', 'E', 'E', 'E', 'E', 'E', 'E', 'E', 'E', 'E', 'E', 'D', 'D', 'D', 'D', 'D', 'C', 'C', 'C', 'C', 'C', 'C', 'C', 'C', 'D', 'D', 'D', 'D', 'D', 'D', 'D', 'D', 'D', 'D', 'D', 'D', 'D', 'D', 'D', 'D', 'D', 'D', 'D', 'D', 'D', 'D', 'C', 'C', 'C', 'C', 'E', 'E', 'E', 'E', 'E', 'E', 'D', 'D', 'D', 'D', 'D', 'C', 'C', 'C', 'D', 'D', 'D', 'D', 'D', 'C', 'C', 'C']]\ndata_dict['chords'][:2][:5]: [['C-major triad', 'C-major triad', 'C-major triad', 'C-major triad', 'C-major triad', 'C-major triad', 'C-major triad', 'C-major triad', 'C-major triad', 'C-major triad', 'C-major triad', '', 'C-major triad', 'C-major triad', 'C-major triad', '', '', '', 'C-major triad', 'C-major triad', 'C-major triad', 'C-major triad', 'C-major triad', 'C-major triad', 'C-major triad', 'C-major triad', 'C-major triad', 'C-major triad', '', 'C-major triad', 'C-major triad', 'C-major triad', '', 'A-minor triad', 'A-minor triad', 'A-minor triad', 'A-minor triad', 'A-minor triad', 'A-minor triad', 'A-minor triad', 'A-minor triad', 'A-minor triad', 'A-minor triad', 'A-minor triad', 'A-minor triad', '', 'A-minor triad', 'A-minor triad', 'A-minor triad', '', 'F-major triad', 'F-major triad', 'F-major triad', '', 'F-major triad', 'F-major triad', 'F-major triad', '', 'F-major triad', 'F-major triad', 'F-major triad', '', '', '', '', '', '', '', 'C-major triad', 'C-major triad', 'C-major triad', 'C-major triad', 'C-major triad', 'C-major triad', 'C-major triad', 'C-major triad', 'C-major triad', 'C-major triad', 'C-major triad', 'C-major triad', '', 'C-major triad', 'C-major triad', 'C-major triad', '', '', '', 'C-major triad', 'C-major triad', 'C-major triad', 'C-major triad', 'C-major triad', 'C-major triad', 'C-major triad', 'C-major triad', 'C-major triad', 'C-major triad', '', 'C-major triad', 'C-major triad', 'C-major triad', '', 'A-minor triad', 'A-minor triad', 'A-minor triad', 'A-minor triad', 'A-minor triad', 'A-minor triad', 'A-minor triad', 'A-minor triad', 'A-minor triad', 'A-minor triad', 'A-minor triad', 'A-minor triad', '', 'A-minor triad', 'A-minor triad', 'A-minor triad', '', 'F-major triad', 'F-major triad', 'F-major triad', '', 'F-major triad', 'F-major triad', 'F-major triad', '', 'F-major triad', 'F-major triad', 'F-major triad', '', 'F-major triad', 'F-major triad', 'F-major triad', 'F-major triad', 'F-major triad', 'C-major triad', 'C-major triad', 'C-major triad', 'C-major triad', 'C-major triad', 'C-major triad', 'C-major triad', 'C-major triad', 'C-major triad', 'C-major triad', 'C-major triad', 'C-major triad', 'C-major triad', 'C-major triad', 'C-major triad', 'C-major triad', 'C-major triad', 'C-major triad', 'C-major triad', 'C-major triad', 'C-major triad', 'C-major triad', 'C-major triad', 'C-major triad', 'C-major triad', 'C-major triad', 'C-major triad', 'C-major triad', 'C-major triad', 'C-major triad', 'C-major triad', 'C-major triad', 'C-major triad', 'C-major triad', 'C-major triad', 'C-major triad', 'C-major triad', 'C-major triad', 'C-major triad', 'C-major triad', 'C-major triad', 'C-major triad', 'C-major triad', 'C-major triad', 'C-major triad', 'C-major triad', 'C-major triad', 'A-minor triad', 'C-major triad', 'A-minor triad', 'A-minor triad', 'A-minor triad', 'A-minor triad', 'A-minor triad', 'A-minor triad', 'A-minor triad', 'A-minor triad', 'A-minor triad', 'A-minor triad', 'A-minor triad', 'A-minor triad', 'A-minor triad', 'A-minor triad', 'A-minor triad', 'A-minor triad', 'A-minor triad', 'A-minor triad', 'A-minor triad', 'A-minor triad', 'A-minor triad', 'A-minor triad', 'A-minor triad', 'F-major triad', 'A-minor triad', 'F-major triad', 'F-major triad', 'F-major triad', 'F-major triad', 'F-major triad', 'F-major triad', 'F-major triad', 'F-major triad', 'F-major triad', 'F-major triad', 'F-major triad', 'F-major triad', 'F-major triad', 'F-major triad', 'F-major triad', 'F-major triad', 'F-major triad', 'F-major triad', 'F-major triad', 'F-major triad', 'F-major triad', 'F-major triad', 'C-major triad', 'C-major triad', 'C-major triad', 'C-major triad', 'C-major triad', 'C-major triad', 'C-major triad', 'C-major triad', 'C-major triad', 'C-major triad', 'C-major triad', 'C-major triad', 'C-major triad', 'C-major triad', 'C-major triad', 'C-major triad', 'C-major triad', 'C-major triad', 'C-major triad', 'C-major triad', 'C-major triad', 'C-major triad', 'C-major triad', 'C-major triad', 'C-major triad', 'C-major triad', 'C-major triad', 'C-major triad', 'C-major triad', 'C-major triad', 'C-major triad', 'C-major triad', 'C-major triad', 'C-major triad', 'C-major triad', 'C-major triad', 'C-major triad', 'C-major triad', 'C-major triad', 'C-major triad', 'C-major triad', 'C-major triad', 'C-major triad', 'C-major triad', 'C-major triad', 'C-major triad', 'C-major triad', 'A-minor triad', 'A-minor triad', 'A-minor triad', 'A-minor triad', 'A-minor triad', 'A-minor triad', 'A-minor triad', 'A-minor triad', 'A-minor triad', 'A-minor triad', 'A-minor triad', 'A-minor triad', 'A-minor triad', 'A-minor triad', 'A-minor triad', 'A-minor triad', 'A-minor triad', 'A-minor triad', 'A-minor triad', 'F-major triad', 'A-minor triad', 'F-major triad', 'F-major triad', 'F-major triad', 'F-major triad', 'F-major triad', 'F-major triad', 'F-major triad', 'F-major triad', 'F-major triad', 'F-major triad', 'F-major triad', 'F-major triad', 'F-major triad', 'F-major triad', 'F-major triad', 'F-major triad', 'F-major triad', 'F-major triad', 'F-major triad', 'F-major triad'], ['A-minor triad', 'A-minor triad', 'A-minor triad', 'A-minor triad', 'A-minor triad', 'A-minor triad', 'A-minor triad', 'A-minor triad', 'A-minor triad', 'A-minor triad', 'A-minor triad', 'A-minor triad', 'A-minor triad', 'A-minor triad', 'A-minor triad', 'A-minor triad', 'E-major triad', 'A-minor triad', 'E-major triad', 'E-major triad', 'E-major triad', '', 'E-major triad', 'E-major triad', 'E-major triad', 'E-major triad', 'E-major triad', 'E-major triad', 'E-major triad', 'E-major triad', 'E-major triad', 'E-major triad', 'E-major triad', 'E-major triad', 'E-major triad', 'E-major triad', 'E-major triad', 'E-major triad', 'E-major triad', 'F-major triad', 'F-major triad', 'F-major triad', 'F-major triad', 'F-major triad', 'F-major triad', 'F-major triad', 'F-major triad', 'F-major triad', 'F-major triad', 'F-major triad', 'F-major triad', 'F-major triad', 'F-major triad', 'F-major triad', 'F-major triad', 'F-major triad', 'F-major triad', 'F-major triad', 'F-major triad', 'C-major triad', 'F-major triad', 'C-major triad', 'C-major triad', 'C-major triad', 'C-major triad', 'C-major triad', 'C-major triad', 'C-major triad', 'C-major triad', 'C-major triad', 'C-major triad', 'C-major triad', 'C-major triad', 'C-major triad', 'C-major triad', 'C-major triad', 'C-major triad', 'C-major triad', 'C-major triad', 'C-major triad', 'C-major triad', 'C-major triad', 'C-major triad', 'A-minor triad', 'A-minor triad', 'A-minor triad', 'A-minor triad', 'A-minor triad', 'A-minor triad', 'A-minor triad', 'A-minor triad', 'A-minor triad', 'A-minor triad', 'A-minor triad', 'A-minor triad', 'A-minor triad', 'A-minor triad', 'A-minor triad', 'A-minor triad', 'A-minor triad', 'A-minor triad', '', 'F-major triad', 'F-major triad', 'F-major triad', 'F-major triad', 'F-major triad', 'F-major triad', 'F-major triad', 'F-major triad', 'F-major triad', 'F-major triad', 'F-major triad', 'F-major triad', 'F-major triad', 'F-major triad', 'F-major triad', 'F-major triad', 'C-major triad', 'C-major triad', 'C-major triad', 'C-major triad', 'C-major triad', 'C-major triad', 'C-major triad', 'D-minor triad', 'D-minor triad', 'D-minor triad', 'D-minor triad', 'D-minor triad', 'D-minor triad', 'C-major triad', 'D-minor triad', 'C-major triad', 'C-major triad', 'C-major triad', 'C-major triad', 'C-major triad', 'C-major triad', 'F-major triad', 'C-major triad', 'F-major triad', 'F-major triad', 'F-major triad', 'F-major triad', 'F-major triad', 'F-major triad', 'C-major triad', 'C-major triad', 'C-major triad', 'C-major triad', 'C-major triad', 'C-major triad', 'G-major triad', 'C-major triad', 'G-major triad', 'G-major triad', 'G-major triad', 'G-major triad', 'G-major triad', 'G-major triad', 'G-major triad', 'G-major triad', 'G-major triad', 'G-major triad', 'G-major triad', 'G-major triad', 'G-major triad', 'G-major triad', 'G-major triad', 'C-major triad', 'G-major triad', 'C-major triad', 'C-major triad', 'C-major triad', 'C-major triad', 'C-major triad', 'C-major triad', 'C-major triad', 'C-major triad', 'C-major triad', 'D-minor triad', 'D-minor triad', 'D-minor triad', 'D-minor triad', 'D-minor triad', 'D-minor triad', 'D-minor triad', 'D-minor triad', 'D-minor triad', 'D-minor triad', 'D-minor triad', 'D-minor triad', 'F-major triad', 'D-minor triad', 'F-major triad', 'F-major triad', 'F-major triad', 'F-major triad', 'F-major triad', 'F-major triad', 'F-major triad', 'F-major triad', 'F-major triad', 'F-major triad', 'F-major triad', 'F-major triad', 'F-major triad', 'F-major triad', 'F-major triad', 'F-major triad', 'F-major triad', 'F-major triad', 'F-major triad', 'F-major triad', 'F-major triad', 'C-major triad', 'C-major triad', 'C-major triad', 'C-major triad', 'C-major triad', 'C-major triad', 'C-major triad', 'D-minor triad', 'C-major triad', 'D-minor triad', 'D-minor triad', 'D-minor triad', 'D-minor triad', 'D-minor triad', 'D-minor triad', 'C-major triad', 'C-major triad', 'C-major triad', 'C-major triad', 'C-major triad', 'C-major triad', 'F-major triad', 'C-major triad', 'F-major triad', 'F-major triad', 'F-major triad', 'F-major triad', 'F-major triad', 'F-major triad', 'C-major triad', 'C-major triad', 'C-major triad', 'C-major triad', 'C-major triad', 'C-major triad', 'G-major triad', 'C-major triad', 'G-major triad', 'G-major triad', 'G-major triad', 'G-major triad', 'G-major triad', 'G-major triad', 'G-major triad', 'G-major triad', 'G-major triad', 'G-major triad', 'G-major triad', 'G-major triad', 'G-major triad', 'G-major triad', 'G-major triad', 'C-major triad', 'G-major triad', 'C-major triad', 'C-major triad', 'C-major triad', 'C-major triad', 'C-major triad', 'C-major triad', 'C-major triad', 'C-major triad', 'C-major triad', 'D-minor triad', 'C-major triad', 'D-minor triad', 'D-minor triad', 'D-minor triad', 'D-minor triad', 'D-minor triad', 'D-minor triad', 'D-minor triad', 'D-minor triad', 'D-minor triad', 'D-minor triad', 'D-minor triad', 'F-major triad', 'D-minor triad', 'F-major triad', 'F-major triad', 'F-major triad', 'F-major triad', 'F-major triad', 'F-major triad', 'F-major triad', 'F-major triad', 'F-major triad', 'F-major triad', 'F-major triad', 'F-major triad', 'F-major triad', 'F-major triad', 'F-major triad', 'F-major triad', 'F-major triad', 'F-major triad', 'F-major triad', 'F-major triad', 'F-major triad', 'D-minor triad', 'D-minor triad', 'D-minor triad', 'D-minor triad', 'D-minor triad', 'D-minor triad', 'D-minor triad', 'D-minor triad', 'D-minor triad', 'D-minor triad', 'D-minor triad', 'D-minor triad', 'D-minor triad', 'D-minor triad', 'D-minor triad', 'D-minor triad', 'D-minor triad', 'D-minor triad', 'D-minor triad', 'D-minor triad', 'D-minor triad', 'D-minor triad', 'F-major triad', 'D-minor triad', 'F-major triad', 'F-major triad', 'F-major triad', 'F-major triad', 'F-major triad', 'F-major triad', '', '', '', '', '', '', '', '', '', '', '', '', '', '', '']]\n"
     ]
    }
   ],
   "source": [
    "print(f'data_dict.keys(): {data_dict.keys()}')\n",
    "\n",
    "print(f'data_dict[\\'file\\'][:2]: {data_dict[\"file\"][:2]}')\n",
    "print(f'data_dict[\\'melody\\'][:2][:5]: {data_dict[\"melody\"][:2][:5]}')\n",
    "print(f'data_dict[\\'chords\\'][:2][:5]: {data_dict[\"chords\"][:2][:5]}')"
   ]
  },
  {
   "cell_type": "code",
   "execution_count": null,
   "metadata": {},
   "outputs": [],
   "source": []
  }
 ]
}